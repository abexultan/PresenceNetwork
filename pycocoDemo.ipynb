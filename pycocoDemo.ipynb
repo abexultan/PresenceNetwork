{
 "cells": [
  {
   "cell_type": "code",
   "execution_count": 1,
   "metadata": {},
   "outputs": [],
   "source": [
    "from pycocotools.coco import COCO\n",
    "from PIL import Image\n",
    "from torch.utils.data import Dataset, DataLoader\n",
    "import numpy as np\n",
    "import random\n",
    "import torch\n",
    "from torchvision import transforms\n",
    "import pickle\n",
    "import cv2 as cv\n",
    "from skimage.util import random_noise\n",
    "\n",
    "mean = (.5, .5, .5)\n",
    "std = (.5, .5, .5)\n",
    "normalize = transforms.Normalize(mean, std)\n",
    "\n",
    "\n",
    "def transform(inp, shape, normalize=False):\n",
    "    \n",
    "    if type(inp) == np.ndarray:\n",
    "        inp_tensor = torch.from_numpy(inp)\n",
    "        inp_tensor = inp_tensor.type(torch.FloatTensor)\n",
    "    else:\n",
    "        inp_tensor = torch.tensor(inp)\n",
    "    \n",
    "    inp_tensor = inp_tensor.view(shape)\n",
    "    \n",
    "    if normalize:\n",
    "        inp_tensor = normalize(inp_tensor)\n",
    "    \n",
    "    return inp_tensor\n",
    "\n",
    "class PresenceDataset(Dataset):\n",
    "    \n",
    "    augment_dict = {1: \"rotate\", 2: \"shift\"}\n",
    "\n",
    "    def __init__(self, data_path, annotation_path, norm=normalize):\n",
    "\n",
    "        super().__init__()\n",
    "        self.coco = COCO(annotation_path)\n",
    "        with open('./present_list.txt', 'rb') as fb:\n",
    "            self.present_list = pickle.load(fb)\n",
    "        with open('./non_present_list.txt', 'rb') as fb:\n",
    "            self.non_present_list = pickle.load(fb)\n",
    "        self.data_list = self.present_list + self.non_present_list\n",
    "        self.cats = set(self.coco.getCatIds())\n",
    "        self.data_path = data_path\n",
    "        self.normalize = normalize\n",
    "        # getting the list of IDs associated with present GT pair\n",
    "\n",
    "    def __len__(self):\n",
    "\n",
    "        return len(self.data_list)\n",
    "\n",
    "    def __getitem__(self, idx):\n",
    "\n",
    "        img_id = self.data_list[idx]\n",
    "        ann_lst = self.coco.getAnnIds(img_id, iscrowd=False, areaRng=[10000, float('inf')])\n",
    "\n",
    "        if ann_lst is []:\n",
    "            return None\n",
    "\n",
    "        else:\n",
    "\n",
    "            present_set = set()\n",
    "            for annot_id in ann_lst:\n",
    "                cat = self.coco.loadAnns(annot_id)[0]['category_id']\n",
    "                if cat not in present_set:\n",
    "                    present_set.add(cat)\n",
    "                else:\n",
    "                    continue\n",
    "\n",
    "            # getting the target depending on presence of GT pair\n",
    "            if img_id in self.present_list:\n",
    "                target, presence, _, _ = self._crop_random(present_set,\n",
    "                                                           img_id, True, idx)\n",
    "            else:\n",
    "                non_present_lst = list(self.cats - present_set)\n",
    "                target, presence, _, _ = self._crop_random(non_present_lst,\n",
    "                                                           img_id, False, idx)\n",
    "\n",
    "            img_meta = self.coco.loadImgs(img_id)[0]\n",
    "            img = np.array(Image.open(''.join([self.data_path, '/',\n",
    "                                               img_meta['file_name']])))\n",
    "\n",
    "            img = self.__class__._rescale(img, (512, 512), self.normalize)\n",
    "            target = self.__class__._rescale(target, (96, 96), self.normalize)\n",
    "\n",
    "            if presence:\n",
    "                out = transform([1,0], (1,2), False)\n",
    "            else:\n",
    "                out = transform([0,1], (1,2), False)\n",
    "\n",
    "            return {\"image_pair\": (img, target), \"presence\": out}\n",
    "\n",
    "    @staticmethod\n",
    "    def _rescale(img, shape, normalize):\n",
    "\n",
    "        img_obj = Image.fromarray(img)\n",
    "        img_obj.thumbnail(size=shape)\n",
    "        resized_img = Image.new('RGB', shape, 0)\n",
    "        resized_img.paste(img_obj, ((shape[0] - img_obj.size[0])//2,\n",
    "                                    (shape[1] - img_obj.size[1])//2))\n",
    "        resized_img = np.array(resized_img)\n",
    "        \n",
    "        return transform(resized_img,\n",
    "                         (3, shape[0], shape[1]),\n",
    "                         normalize)\n",
    "\n",
    "    def _crop_random(self, category_lst, img_id, is_present, idx):\n",
    "        '''\n",
    "        Crops the target image and returns both target array\n",
    "        and presence boolean\n",
    "\n",
    "        Args: category_list - used to get the random image where\n",
    "                            certain category is present\n",
    "\n",
    "              img_id - ID of the scene from pair, used if is_present\n",
    "                       boolean is True to assure the cropped\n",
    "                       target being from another image\n",
    "\n",
    "              is_present - if True, will remove ID of the image\n",
    "                           from possible candidate for target list\n",
    "\n",
    "        Output: cropped - proposed target cropped image\n",
    "\n",
    "                is_present - presence of target in the img_id\n",
    "        '''\n",
    "\n",
    "        if is_present:\n",
    "            ann_ids = self.coco.getAnnIds(imgIds=img_id, areaRng=[64 ** 2, 96 ** 2], iscrowd=False)\n",
    "            \n",
    "        \n",
    "        else: \n",
    "            ann_ids = self.coco.getAnnIds(catIds=category_lst,\n",
    "                                          areaRng=[64**2, 96**2], iscrowd=False)\n",
    "        \n",
    "        annotation = self.coco.loadAnns(random.choice(ann_ids))[0]\n",
    "        target_id = annotation['image_id']\n",
    "\n",
    "        # bbox of target\n",
    "        x, y, w, h = annotation['bbox']\n",
    "        area = annotation['area']\n",
    "\n",
    "        # cropping the target with specified bounding box\n",
    "        meta = self.coco.loadImgs(target_id)[0]\n",
    "        arr_img = np.array(Image.open(''.join([self.data_path, '/',\n",
    "                                               meta['file_name']])))\n",
    "        cropped = arr_img[int(y):int(y+h), int(x):int(x+w)]\n",
    "        \n",
    "        if is_present:\n",
    "            augment_id = random.randint(1,2)\n",
    "            augment = self.augment_dict[augment_id]\n",
    "            if augment == \"rotate\":\n",
    "                cropped = cv.rotate(cropped, cv.ROTATE_90_CLOCKWISE)\n",
    "            elif augment == \"shift\":\n",
    "                cropped = arr_img[int(y)+20:int(y+h)+20, int(x):int(x+w)+20]\n",
    "            \n",
    "            # adding salt and pepper noize\n",
    "            cropped = random_noise(cropped)\n",
    "                \n",
    "\n",
    "        return cropped, is_present, area, annotation['category_id']\n"
   ]
  },
  {
   "cell_type": "code",
   "execution_count": 2,
   "metadata": {},
   "outputs": [
    {
     "name": "stdout",
     "output_type": "stream",
     "text": [
      "loading annotations into memory...\n",
      "Done (t=12.64s)\n",
      "creating index...\n",
      "index created!\n"
     ]
    }
   ],
   "source": [
    "dataDir='/media/cimr/DATA_2/few-shot-object-detection/datasets/coco'\n",
    "TRAIN_IMAGES_DIRECTORY = '/media/cimr/DATA_2/few-shot-object-detection/datasets/coco/train2017/'\n",
    "TRAIN_ANNOTATIONS_PATH = '{}/annotations/instances_train2017.json'.format(dataDir)\n",
    "\n",
    "data = PresenceDataset(TRAIN_IMAGES_DIRECTORY, TRAIN_ANNOTATIONS_PATH)\n",
    "\n",
    "# idx = random.choice(list(range(data.__len__())))\n",
    "# sample_dict = data.__getitem__(idx)\n",
    "# scene, target = sample_dict['image_pair']\n",
    "# presence = sample_dict['presence']\n",
    "# print(\"Presence: {}, Image shape {}\".format(presence.shape, scene.shape))\n",
    "\n",
    "# data_loader = DataLoader(data, batch_size=1, num_workers=4, shuffle=False)\n",
    "# # problem_ids = []\n",
    "# for idx, sample in enumerate(data_loader):\n",
    "#     if sample is not None:\n",
    "#         scene, target = sample[\"image_pair\"]\n",
    "#         presence = sample[\"presence\"]\n",
    "#         if idx % 5000 == 0:\n",
    "#             print(\"Scene shape batch {}, target shape batch {}, presence shape batch {}\".format(scene.shape, target.shape, presence.shape))\n",
    "#             print(\"Index {}\".format(idx))\n",
    "#     else:\n",
    "#         print(\"Annotations is empty for the image\")\n",
    "# except_imgs = []\n",
    "# for i in range(data.__len__()):\n",
    "#     try:\n",
    "#         sample = data.__getitem__(i)\n",
    "#     except:\n",
    "#         except_imgs.append(data.data_list[i])\n",
    "#         print(\"Image which doesn't have suited annotation\")"
   ]
  },
  {
   "cell_type": "code",
   "execution_count": 22,
   "metadata": {},
   "outputs": [
    {
     "name": "stdout",
     "output_type": "stream",
     "text": [
      "True\n"
     ]
    },
    {
     "data": {
      "image/png": "[encoded data removed]",
      "text/plain": [
       "<PIL.Image.Image image mode=RGB size=153x103 at 0x7F8AF814FA00>"
      ]
     },
     "execution_count": 22,
     "metadata": {},
     "output_type": "execute_result"
    }
   ],
   "source": [
    "import time\n",
    "idx = random.choice(range(data.__len__()))\n",
    "sample = data.__getitem__(idx)\n",
    "image, target = sample['image_pair']\n",
    "presence = sample['presence']\n",
    "Image.fromarray(image).show()\n",
    "print(presence)\n",
    "if presence:\n",
    "    target = (target * 255).astype(np.uint8)\n",
    "Image.fromarray(target)\n"
   ]
  },
  {
   "cell_type": "code",
   "execution_count": 6,
   "metadata": {},
   "outputs": [
    {
     "data": {
      "text/plain": [
       "numpy.ndarray"
      ]
     },
     "execution_count": 6,
     "metadata": {},
     "output_type": "execute_result"
    }
   ],
   "source": [
    "type(target)"
   ]
  },
  {
   "cell_type": "code",
   "execution_count": null,
   "metadata": {},
   "outputs": [],
   "source": [
    "# initialize COCO api for instance annotations\n",
    "coco=COCO(annFile)"
   ]
  },
  {
   "cell_type": "code",
   "execution_count": null,
   "metadata": {
    "scrolled": true
   },
   "outputs": [],
   "source": [
    "# display COCO categories and supercategories\n",
    "cats = coco.loadCats(coco.getCatIds())\n",
    "nms=[cat['name'] for cat in cats]\n",
    "print('COCO categories: \\n{}\\n'.format(' '.join(nms)))\n",
    "\n",
    "nms = set([cat['supercategory'] for cat in cats])\n",
    "print('COCO supercategories: \\n{}'.format(' '.join(nms)))"
   ]
  },
  {
   "cell_type": "code",
   "execution_count": null,
   "metadata": {},
   "outputs": [],
   "source": [
    "# get all images containing given categories, select one at random\n",
    "catIds = coco.getCatIds(catNms=['person','dog','skateboard']);\n",
    "imgIds = coco.getImgIds(catIds=catIds );\n",
    "imgIds = coco.getImgIds(imgIds = [324158])\n",
    "img = coco.loadImgs(imgIds[np.random.randint(0,len(imgIds))])[0]"
   ]
  },
  {
   "cell_type": "code",
   "execution_count": null,
   "metadata": {},
   "outputs": [],
   "source": [
    "# load and display image\n",
    "# I = io.imread('%s/images/%s/%s'%(dataDir,dataType,img['file_name']))\n",
    "# use url to load image\n",
    "I = io.imread(img['coco_url'])\n",
    "plt.axis('off')\n",
    "plt.imshow(I)\n",
    "plt.show()"
   ]
  },
  {
   "cell_type": "code",
   "execution_count": null,
   "metadata": {},
   "outputs": [],
   "source": [
    "# load and display instance annotations\n",
    "plt.imshow(I); plt.axis('off')\n",
    "annIds = coco.getAnnIds(imgIds=img['id'], catIds=catIds, iscrowd=None)\n",
    "anns = coco.loadAnns(annIds)\n",
    "coco.showAnns(anns)"
   ]
  },
  {
   "cell_type": "code",
   "execution_count": null,
   "metadata": {},
   "outputs": [],
   "source": [
    "# initialize COCO api for person keypoints annotations\n",
    "annFile = '{}/annotations/person_keypoints_{}.json'.format(dataDir,dataType)\n",
    "coco_kps=COCO(annFile)"
   ]
  },
  {
   "cell_type": "code",
   "execution_count": null,
   "metadata": {},
   "outputs": [],
   "source": [
    "# load and display keypoints annotations\n",
    "plt.imshow(I); plt.axis('off')\n",
    "ax = plt.gca()\n",
    "annIds = coco_kps.getAnnIds(imgIds=img['id'], catIds=catIds, iscrowd=None)\n",
    "anns = coco_kps.loadAnns(annIds)\n",
    "coco_kps.showAnns(anns)"
   ]
  },
  {
   "cell_type": "code",
   "execution_count": null,
   "metadata": {},
   "outputs": [],
   "source": [
    "# initialize COCO api for caption annotations\n",
    "annFile = '{}/annotations/captions_{}.json'.format(dataDir,dataType)\n",
    "coco_caps=COCO(annFile)"
   ]
  },
  {
   "cell_type": "code",
   "execution_count": null,
   "metadata": {},
   "outputs": [],
   "source": [
    "# load and display caption annotations\n",
    "annIds = coco_caps.getAnnIds(imgIds=img['id']);\n",
    "anns = coco_caps.loadAnns(annIds)\n",
    "coco_caps.showAnns(anns)\n",
    "plt.imshow(I); plt.axis('off'); plt.show()"
   ]
  }
 ],
 "metadata": {
  "kernelspec": {
   "display_name": "keras",
   "language": "python",
   "name": "keras"
  },
  "language_info": {
   "codemirror_mode": {
    "name": "ipython",
    "version": 3
   },
   "file_extension": ".py",
   "mimetype": "text/x-python",
   "name": "python",
   "nbconvert_exporter": "python",
   "pygments_lexer": "ipython3",
   "version": "3.8.2"
  }
 },
 "nbformat": 4,
 "nbformat_minor": 4
}
